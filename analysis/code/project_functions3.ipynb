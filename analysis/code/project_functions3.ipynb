{
 "cells": [
  {
   "cell_type": "code",
   "execution_count": 1,
   "id": "89ebe28d-1ecb-46c7-a3da-642d80b0eeb5",
   "metadata": {},
   "outputs": [],
   "source": [
    "def load_and_process(file_path):\n",
    "\n",
    "    # Method Chain 1 (Load data and remove unused columns)\n",
    "\n",
    "    df1 = (\n",
    "          pd.read_csv(file_path, sep=';')\n",
    "          .drop(['Continent', 'Least Developed', 'Population', 'People practicing open defecation', \n",
    "                 'People using at least basic drinking water services', 'Obesity among adults', \n",
    "                 'Beer consumption per capita'], axis=1)\n",
    "          .dropna()\n",
    "      )\n",
    "\n",
    "    # Method Chain 2 (Create new column expenditure_type)\n",
    "\n",
    "    df2 = (\n",
    "          df1\n",
    "          .assign(expenditure_type=lambda x: np.where(x['Health expenditure'] > x['Military expenditure'], 'H', 'M'))\n",
    "      )\n",
    "\n",
    "    return df2\n",
    "\n"
   ]
  },
  {
   "cell_type": "code",
   "execution_count": null,
   "id": "e4518184-03e5-4895-95e7-c2ccb05fa138",
   "metadata": {},
   "outputs": [],
   "source": []
  }
 ],
 "metadata": {
  "kernelspec": {
   "display_name": "Python 3 (ipykernel)",
   "language": "python",
   "name": "python3"
  },
  "language_info": {
   "codemirror_mode": {
    "name": "ipython",
    "version": 3
   },
   "file_extension": ".py",
   "mimetype": "text/x-python",
   "name": "python",
   "nbconvert_exporter": "python",
   "pygments_lexer": "ipython3",
   "version": "3.10.8"
  }
 },
 "nbformat": 4,
 "nbformat_minor": 5
}
