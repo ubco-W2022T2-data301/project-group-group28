{
 "cells": [
  {
   "cell_type": "markdown",
   "metadata": {},
   "source": [
    "# Aadil Shaji"
   ]
  },
  {
   "cell_type": "markdown",
   "metadata": {},
   "source": [
    "## Research question/interests\n",
    "\n",
    "In today's world, Life expectancy is a statistic that countries all over the world keep track of. It has increased significantly with the tremendous advances in the field of medicine but it is not consistent all over the world. Why is this so?
I am interested in finding out whether life expectancy is more or less in developed countries compared to less developed countries. I will do so by analyzing the factors which seem to most closely affect the life expectancy in countries all over the world."
   ]
  },
  {
   "cell_type": "code",
   "execution_count": null,
   "metadata": {},
   "outputs": [],
   "source": [
    "import pandas as pd\n",
    "df = pd.read_csv(../data/)"
   ]
  }
 ],
 "metadata": {
  "kernelspec": {
   "display_name": "Python 3 (ipykernel)",
   "language": "python",
   "name": "python3"
  }
 },
 "nbformat": 4,
 "nbformat_minor": 4
}
